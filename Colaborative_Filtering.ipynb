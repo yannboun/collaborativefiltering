{
  "nbformat": 4,
  "nbformat_minor": 0,
  "metadata": {
    "colab": {
      "name": "Colaborative_Filtering.ipynb",
      "provenance": [],
      "collapsed_sections": [],
      "machine_shape": "hm",
      "authorship_tag": "ABX9TyPIiWMy6FyccJpNE9iym6wH",
      "include_colab_link": true
    },
    "kernelspec": {
      "name": "python3",
      "display_name": "Python 3"
    },
    "accelerator": "GPU",
    "widgets": {
      "application/vnd.jupyter.widget-state+json": {
        "f70f1bc2a6ac4cc38bf042851fd284b4": {
          "model_module": "@jupyter-widgets/controls",
          "model_name": "HBoxModel",
          "state": {
            "_view_name": "HBoxView",
            "_dom_classes": [],
            "_model_name": "HBoxModel",
            "_view_module": "@jupyter-widgets/controls",
            "_model_module_version": "1.5.0",
            "_view_count": null,
            "_view_module_version": "1.5.0",
            "box_style": "",
            "layout": "IPY_MODEL_7d63e9cc3f2448898ae730245216f292",
            "_model_module": "@jupyter-widgets/controls",
            "children": [
              "IPY_MODEL_d933af5b01b846619288dc8d3fa976d0",
              "IPY_MODEL_d0852763beb34184af3dc95960a6d0a4"
            ]
          }
        },
        "7d63e9cc3f2448898ae730245216f292": {
          "model_module": "@jupyter-widgets/base",
          "model_name": "LayoutModel",
          "state": {
            "_view_name": "LayoutView",
            "grid_template_rows": null,
            "right": null,
            "justify_content": null,
            "_view_module": "@jupyter-widgets/base",
            "overflow": null,
            "_model_module_version": "1.2.0",
            "_view_count": null,
            "flex_flow": null,
            "width": null,
            "min_width": null,
            "border": null,
            "align_items": null,
            "bottom": null,
            "_model_module": "@jupyter-widgets/base",
            "top": null,
            "grid_column": null,
            "overflow_y": null,
            "overflow_x": null,
            "grid_auto_flow": null,
            "grid_area": null,
            "grid_template_columns": null,
            "flex": null,
            "_model_name": "LayoutModel",
            "justify_items": null,
            "grid_row": null,
            "max_height": null,
            "align_content": null,
            "visibility": null,
            "align_self": null,
            "height": null,
            "min_height": null,
            "padding": null,
            "grid_auto_rows": null,
            "grid_gap": null,
            "max_width": null,
            "order": null,
            "_view_module_version": "1.2.0",
            "grid_template_areas": null,
            "object_position": null,
            "object_fit": null,
            "grid_auto_columns": null,
            "margin": null,
            "display": null,
            "left": null
          }
        },
        "d933af5b01b846619288dc8d3fa976d0": {
          "model_module": "@jupyter-widgets/controls",
          "model_name": "IntProgressModel",
          "state": {
            "_view_name": "ProgressView",
            "style": "IPY_MODEL_e8e4716fd30f4181b6ad1d8748ec1981",
            "_dom_classes": [],
            "description": "100%",
            "_model_name": "IntProgressModel",
            "bar_style": "success",
            "max": 15,
            "_view_module": "@jupyter-widgets/controls",
            "_model_module_version": "1.5.0",
            "value": 15,
            "_view_count": null,
            "_view_module_version": "1.5.0",
            "orientation": "horizontal",
            "min": 0,
            "description_tooltip": null,
            "_model_module": "@jupyter-widgets/controls",
            "layout": "IPY_MODEL_df8f62ba49fb4c7e88a749b05d43d311"
          }
        },
        "d0852763beb34184af3dc95960a6d0a4": {
          "model_module": "@jupyter-widgets/controls",
          "model_name": "HTMLModel",
          "state": {
            "_view_name": "HTMLView",
            "style": "IPY_MODEL_e2ee105b3bce42a3b2868029cea42d2e",
            "_dom_classes": [],
            "description": "",
            "_model_name": "HTMLModel",
            "placeholder": "​",
            "_view_module": "@jupyter-widgets/controls",
            "_model_module_version": "1.5.0",
            "value": " 15/15 [00:00&lt;00:00, 18.45it/s]",
            "_view_count": null,
            "_view_module_version": "1.5.0",
            "description_tooltip": null,
            "_model_module": "@jupyter-widgets/controls",
            "layout": "IPY_MODEL_f3e386dcc8554b92bc2cef32ef7da77e"
          }
        },
        "e8e4716fd30f4181b6ad1d8748ec1981": {
          "model_module": "@jupyter-widgets/controls",
          "model_name": "ProgressStyleModel",
          "state": {
            "_view_name": "StyleView",
            "_model_name": "ProgressStyleModel",
            "description_width": "initial",
            "_view_module": "@jupyter-widgets/base",
            "_model_module_version": "1.5.0",
            "_view_count": null,
            "_view_module_version": "1.2.0",
            "bar_color": null,
            "_model_module": "@jupyter-widgets/controls"
          }
        },
        "df8f62ba49fb4c7e88a749b05d43d311": {
          "model_module": "@jupyter-widgets/base",
          "model_name": "LayoutModel",
          "state": {
            "_view_name": "LayoutView",
            "grid_template_rows": null,
            "right": null,
            "justify_content": null,
            "_view_module": "@jupyter-widgets/base",
            "overflow": null,
            "_model_module_version": "1.2.0",
            "_view_count": null,
            "flex_flow": null,
            "width": null,
            "min_width": null,
            "border": null,
            "align_items": null,
            "bottom": null,
            "_model_module": "@jupyter-widgets/base",
            "top": null,
            "grid_column": null,
            "overflow_y": null,
            "overflow_x": null,
            "grid_auto_flow": null,
            "grid_area": null,
            "grid_template_columns": null,
            "flex": null,
            "_model_name": "LayoutModel",
            "justify_items": null,
            "grid_row": null,
            "max_height": null,
            "align_content": null,
            "visibility": null,
            "align_self": null,
            "height": null,
            "min_height": null,
            "padding": null,
            "grid_auto_rows": null,
            "grid_gap": null,
            "max_width": null,
            "order": null,
            "_view_module_version": "1.2.0",
            "grid_template_areas": null,
            "object_position": null,
            "object_fit": null,
            "grid_auto_columns": null,
            "margin": null,
            "display": null,
            "left": null
          }
        },
        "e2ee105b3bce42a3b2868029cea42d2e": {
          "model_module": "@jupyter-widgets/controls",
          "model_name": "DescriptionStyleModel",
          "state": {
            "_view_name": "StyleView",
            "_model_name": "DescriptionStyleModel",
            "description_width": "",
            "_view_module": "@jupyter-widgets/base",
            "_model_module_version": "1.5.0",
            "_view_count": null,
            "_view_module_version": "1.2.0",
            "_model_module": "@jupyter-widgets/controls"
          }
        },
        "f3e386dcc8554b92bc2cef32ef7da77e": {
          "model_module": "@jupyter-widgets/base",
          "model_name": "LayoutModel",
          "state": {
            "_view_name": "LayoutView",
            "grid_template_rows": null,
            "right": null,
            "justify_content": null,
            "_view_module": "@jupyter-widgets/base",
            "overflow": null,
            "_model_module_version": "1.2.0",
            "_view_count": null,
            "flex_flow": null,
            "width": null,
            "min_width": null,
            "border": null,
            "align_items": null,
            "bottom": null,
            "_model_module": "@jupyter-widgets/base",
            "top": null,
            "grid_column": null,
            "overflow_y": null,
            "overflow_x": null,
            "grid_auto_flow": null,
            "grid_area": null,
            "grid_template_columns": null,
            "flex": null,
            "_model_name": "LayoutModel",
            "justify_items": null,
            "grid_row": null,
            "max_height": null,
            "align_content": null,
            "visibility": null,
            "align_self": null,
            "height": null,
            "min_height": null,
            "padding": null,
            "grid_auto_rows": null,
            "grid_gap": null,
            "max_width": null,
            "order": null,
            "_view_module_version": "1.2.0",
            "grid_template_areas": null,
            "object_position": null,
            "object_fit": null,
            "grid_auto_columns": null,
            "margin": null,
            "display": null,
            "left": null
          }
        }
      }
    }
  },
  "cells": [
    {
      "cell_type": "markdown",
      "metadata": {
        "id": "view-in-github",
        "colab_type": "text"
      },
      "source": [
        "<a href=\"https://colab.research.google.com/github/yannboun/collaborativefiltering/blob/master/Colaborative_Filtering.ipynb\" target=\"_parent\"><img src=\"https://colab.research.google.com/assets/colab-badge.svg\" alt=\"Open In Colab\"/></a>"
      ]
    },
    {
      "cell_type": "code",
      "metadata": {
        "id": "CUH4yvff41wG",
        "colab_type": "code",
        "outputId": "f592b493-9920-46d7-bfdd-cab0528c026d",
        "colab": {
          "base_uri": "https://localhost:8080/",
          "height": 666
        }
      },
      "source": [
        "!pip install implicit\n",
        "!wget -O ml-1m.zip http://files.grouplens.org/datasets/movielens/ml-1m.zip\n",
        "!unzip -o ml-1m.zip\n",
        "\n",
        "import pandas as pd\n",
        "import tensorflow.compat.v1 as tf\n",
        "tf.disable_v2_behavior()\n",
        "import numpy as np\n",
        "from scipy.sparse import coo_matrix\n",
        "import implicit\n",
        "from sklearn.model_selection import train_test_split\n",
        "from sklearn.preprocessing import MinMaxScaler, StandardScaler\n",
        "from sklearn.metrics import mean_absolute_error\n",
        "\n",
        "\n",
        "movie_df = pd.read_csv(\"ml-1m/movies.dat\", sep=\"::\",names=[\"MovieID\",\"movie\",\"type\"])\n",
        "ratings_df = pd.read_csv(\"ml-1m/ratings.dat\", sep=\"::\",names=[\"UserID\",\"MovieID\",\"Rating\",\"Time\"])"
      ],
      "execution_count": 2,
      "outputs": [
        {
          "output_type": "stream",
          "text": [
            "Collecting implicit\n",
            "\u001b[?25l  Downloading https://files.pythonhosted.org/packages/5a/d8/6b4f1374ffa2647b72ac76960c71b984c6f3238090359fb419d03827d87a/implicit-0.4.2.tar.gz (1.1MB)\n",
            "\r\u001b[K     |▎                               | 10kB 18.8MB/s eta 0:00:01\r\u001b[K     |▋                               | 20kB 3.0MB/s eta 0:00:01\r\u001b[K     |▉                               | 30kB 4.4MB/s eta 0:00:01\r\u001b[K     |█▏                              | 40kB 2.9MB/s eta 0:00:01\r\u001b[K     |█▌                              | 51kB 3.5MB/s eta 0:00:01\r\u001b[K     |█▊                              | 61kB 4.2MB/s eta 0:00:01\r\u001b[K     |██                              | 71kB 4.9MB/s eta 0:00:01\r\u001b[K     |██▍                             | 81kB 5.5MB/s eta 0:00:01\r\u001b[K     |██▋                             | 92kB 6.1MB/s eta 0:00:01\r\u001b[K     |███                             | 102kB 4.7MB/s eta 0:00:01\r\u001b[K     |███▎                            | 112kB 4.7MB/s eta 0:00:01\r\u001b[K     |███▌                            | 122kB 4.7MB/s eta 0:00:01\r\u001b[K     |███▉                            | 133kB 4.7MB/s eta 0:00:01\r\u001b[K     |████▏                           | 143kB 4.7MB/s eta 0:00:01\r\u001b[K     |████▍                           | 153kB 4.7MB/s eta 0:00:01\r\u001b[K     |████▊                           | 163kB 4.7MB/s eta 0:00:01\r\u001b[K     |█████                           | 174kB 4.7MB/s eta 0:00:01\r\u001b[K     |█████▎                          | 184kB 4.7MB/s eta 0:00:01\r\u001b[K     |█████▋                          | 194kB 4.7MB/s eta 0:00:01\r\u001b[K     |█████▉                          | 204kB 4.7MB/s eta 0:00:01\r\u001b[K     |██████▏                         | 215kB 4.7MB/s eta 0:00:01\r\u001b[K     |██████▌                         | 225kB 4.7MB/s eta 0:00:01\r\u001b[K     |██████▊                         | 235kB 4.7MB/s eta 0:00:01\r\u001b[K     |███████                         | 245kB 4.7MB/s eta 0:00:01\r\u001b[K     |███████▍                        | 256kB 4.7MB/s eta 0:00:01\r\u001b[K     |███████▋                        | 266kB 4.7MB/s eta 0:00:01\r\u001b[K     |████████                        | 276kB 4.7MB/s eta 0:00:01\r\u001b[K     |████████▎                       | 286kB 4.7MB/s eta 0:00:01\r\u001b[K     |████████▌                       | 296kB 4.7MB/s eta 0:00:01\r\u001b[K     |████████▉                       | 307kB 4.7MB/s eta 0:00:01\r\u001b[K     |█████████                       | 317kB 4.7MB/s eta 0:00:01\r\u001b[K     |█████████▍                      | 327kB 4.7MB/s eta 0:00:01\r\u001b[K     |█████████▊                      | 337kB 4.7MB/s eta 0:00:01\r\u001b[K     |██████████                      | 348kB 4.7MB/s eta 0:00:01\r\u001b[K     |██████████▎                     | 358kB 4.7MB/s eta 0:00:01\r\u001b[K     |██████████▋                     | 368kB 4.7MB/s eta 0:00:01\r\u001b[K     |██████████▉                     | 378kB 4.7MB/s eta 0:00:01\r\u001b[K     |███████████▏                    | 389kB 4.7MB/s eta 0:00:01\r\u001b[K     |███████████▌                    | 399kB 4.7MB/s eta 0:00:01\r\u001b[K     |███████████▊                    | 409kB 4.7MB/s eta 0:00:01\r\u001b[K     |████████████                    | 419kB 4.7MB/s eta 0:00:01\r\u001b[K     |████████████▍                   | 430kB 4.7MB/s eta 0:00:01\r\u001b[K     |████████████▋                   | 440kB 4.7MB/s eta 0:00:01\r\u001b[K     |█████████████                   | 450kB 4.7MB/s eta 0:00:01\r\u001b[K     |█████████████▏                  | 460kB 4.7MB/s eta 0:00:01\r\u001b[K     |█████████████▌                  | 471kB 4.7MB/s eta 0:00:01\r\u001b[K     |█████████████▉                  | 481kB 4.7MB/s eta 0:00:01\r\u001b[K     |██████████████                  | 491kB 4.7MB/s eta 0:00:01\r\u001b[K     |██████████████▍                 | 501kB 4.7MB/s eta 0:00:01\r\u001b[K     |██████████████▊                 | 512kB 4.7MB/s eta 0:00:01\r\u001b[K     |███████████████                 | 522kB 4.7MB/s eta 0:00:01\r\u001b[K     |███████████████▎                | 532kB 4.7MB/s eta 0:00:01\r\u001b[K     |███████████████▋                | 542kB 4.7MB/s eta 0:00:01\r\u001b[K     |███████████████▉                | 552kB 4.7MB/s eta 0:00:01\r\u001b[K     |████████████████▏               | 563kB 4.7MB/s eta 0:00:01\r\u001b[K     |████████████████▌               | 573kB 4.7MB/s eta 0:00:01\r\u001b[K     |████████████████▊               | 583kB 4.7MB/s eta 0:00:01\r\u001b[K     |█████████████████               | 593kB 4.7MB/s eta 0:00:01\r\u001b[K     |█████████████████▍              | 604kB 4.7MB/s eta 0:00:01\r\u001b[K     |█████████████████▋              | 614kB 4.7MB/s eta 0:00:01\r\u001b[K     |██████████████████              | 624kB 4.7MB/s eta 0:00:01\r\u001b[K     |██████████████████▏             | 634kB 4.7MB/s eta 0:00:01\r\u001b[K     |██████████████████▌             | 645kB 4.7MB/s eta 0:00:01\r\u001b[K     |██████████████████▉             | 655kB 4.7MB/s eta 0:00:01\r\u001b[K     |███████████████████             | 665kB 4.7MB/s eta 0:00:01\r\u001b[K     |███████████████████▍            | 675kB 4.7MB/s eta 0:00:01\r\u001b[K     |███████████████████▊            | 686kB 4.7MB/s eta 0:00:01\r\u001b[K     |████████████████████            | 696kB 4.7MB/s eta 0:00:01\r\u001b[K     |████████████████████▎           | 706kB 4.7MB/s eta 0:00:01\r\u001b[K     |████████████████████▋           | 716kB 4.7MB/s eta 0:00:01\r\u001b[K     |████████████████████▉           | 727kB 4.7MB/s eta 0:00:01\r\u001b[K     |█████████████████████▏          | 737kB 4.7MB/s eta 0:00:01\r\u001b[K     |█████████████████████▌          | 747kB 4.7MB/s eta 0:00:01\r\u001b[K     |█████████████████████▊          | 757kB 4.7MB/s eta 0:00:01\r\u001b[K     |██████████████████████          | 768kB 4.7MB/s eta 0:00:01\r\u001b[K     |██████████████████████▎         | 778kB 4.7MB/s eta 0:00:01\r\u001b[K     |██████████████████████▋         | 788kB 4.7MB/s eta 0:00:01\r\u001b[K     |███████████████████████         | 798kB 4.7MB/s eta 0:00:01\r\u001b[K     |███████████████████████▏        | 808kB 4.7MB/s eta 0:00:01\r\u001b[K     |███████████████████████▌        | 819kB 4.7MB/s eta 0:00:01\r\u001b[K     |███████████████████████▉        | 829kB 4.7MB/s eta 0:00:01\r\u001b[K     |████████████████████████        | 839kB 4.7MB/s eta 0:00:01\r\u001b[K     |████████████████████████▍       | 849kB 4.7MB/s eta 0:00:01\r\u001b[K     |████████████████████████▊       | 860kB 4.7MB/s eta 0:00:01\r\u001b[K     |█████████████████████████       | 870kB 4.7MB/s eta 0:00:01\r\u001b[K     |█████████████████████████▎      | 880kB 4.7MB/s eta 0:00:01\r\u001b[K     |█████████████████████████▋      | 890kB 4.7MB/s eta 0:00:01\r\u001b[K     |█████████████████████████▉      | 901kB 4.7MB/s eta 0:00:01\r\u001b[K     |██████████████████████████▏     | 911kB 4.7MB/s eta 0:00:01\r\u001b[K     |██████████████████████████▍     | 921kB 4.7MB/s eta 0:00:01\r\u001b[K     |██████████████████████████▊     | 931kB 4.7MB/s eta 0:00:01\r\u001b[K     |███████████████████████████     | 942kB 4.7MB/s eta 0:00:01\r\u001b[K     |███████████████████████████▎    | 952kB 4.7MB/s eta 0:00:01\r\u001b[K     |███████████████████████████▋    | 962kB 4.7MB/s eta 0:00:01\r\u001b[K     |████████████████████████████    | 972kB 4.7MB/s eta 0:00:01\r\u001b[K     |████████████████████████████▏   | 983kB 4.7MB/s eta 0:00:01\r\u001b[K     |████████████████████████████▌   | 993kB 4.7MB/s eta 0:00:01\r\u001b[K     |████████████████████████████▉   | 1.0MB 4.7MB/s eta 0:00:01\r\u001b[K     |█████████████████████████████   | 1.0MB 4.7MB/s eta 0:00:01\r\u001b[K     |█████████████████████████████▍  | 1.0MB 4.7MB/s eta 0:00:01\r\u001b[K     |█████████████████████████████▊  | 1.0MB 4.7MB/s eta 0:00:01\r\u001b[K     |██████████████████████████████  | 1.0MB 4.7MB/s eta 0:00:01\r\u001b[K     |██████████████████████████████▎ | 1.1MB 4.7MB/s eta 0:00:01\r\u001b[K     |██████████████████████████████▌ | 1.1MB 4.7MB/s eta 0:00:01\r\u001b[K     |██████████████████████████████▉ | 1.1MB 4.7MB/s eta 0:00:01\r\u001b[K     |███████████████████████████████▏| 1.1MB 4.7MB/s eta 0:00:01\r\u001b[K     |███████████████████████████████▍| 1.1MB 4.7MB/s eta 0:00:01\r\u001b[K     |███████████████████████████████▊| 1.1MB 4.7MB/s eta 0:00:01\r\u001b[K     |████████████████████████████████| 1.1MB 4.7MB/s \n",
            "\u001b[?25hRequirement already satisfied: numpy in /usr/local/lib/python3.6/dist-packages (from implicit) (1.18.2)\n",
            "Requirement already satisfied: scipy>=0.16 in /usr/local/lib/python3.6/dist-packages (from implicit) (1.4.1)\n",
            "Requirement already satisfied: tqdm>=4.27 in /usr/local/lib/python3.6/dist-packages (from implicit) (4.38.0)\n",
            "Building wheels for collected packages: implicit\n",
            "  Building wheel for implicit (setup.py) ... \u001b[?25l\u001b[?25hdone\n",
            "  Created wheel for implicit: filename=implicit-0.4.2-cp36-cp36m-linux_x86_64.whl size=3471588 sha256=f02cad81df54a452adb15474e99567f3e152845d0867c1670ddc2148c6e438a7\n",
            "  Stored in directory: /root/.cache/pip/wheels/1b/48/b1/1aebe3acc3afb5589e72d3e7c3ffc3f637dc4721c1a974dff7\n",
            "Successfully built implicit\n",
            "Installing collected packages: implicit\n",
            "Successfully installed implicit-0.4.2\n",
            "--2020-03-30 22:47:17--  http://files.grouplens.org/datasets/movielens/ml-1m.zip\n",
            "Resolving files.grouplens.org (files.grouplens.org)... 128.101.65.152\n",
            "Connecting to files.grouplens.org (files.grouplens.org)|128.101.65.152|:80... connected.\n",
            "HTTP request sent, awaiting response... 200 OK\n",
            "Length: 5917549 (5.6M) [application/zip]\n",
            "Saving to: ‘ml-1m.zip’\n",
            "\n",
            "ml-1m.zip           100%[===================>]   5.64M  14.8MB/s    in 0.4s    \n",
            "\n",
            "2020-03-30 22:47:17 (14.8 MB/s) - ‘ml-1m.zip’ saved [5917549/5917549]\n",
            "\n",
            "Archive:  ml-1m.zip\n",
            "   creating: ml-1m/\n",
            "  inflating: ml-1m/movies.dat        \n",
            "  inflating: ml-1m/ratings.dat       \n",
            "  inflating: ml-1m/README            \n",
            "  inflating: ml-1m/users.dat         \n",
            "WARNING:tensorflow:From /usr/local/lib/python3.6/dist-packages/tensorflow/python/compat/v2_compat.py:95: disable_resource_variables (from tensorflow.python.ops.variable_scope) is deprecated and will be removed in a future version.\n",
            "Instructions for updating:\n",
            "non-resource variables are not supported in the long term\n"
          ],
          "name": "stdout"
        },
        {
          "output_type": "stream",
          "text": [
            "/usr/local/lib/python3.6/dist-packages/ipykernel_launcher.py:15: ParserWarning: Falling back to the 'python' engine because the 'c' engine does not support regex separators (separators > 1 char and different from '\\s+' are interpreted as regex); you can avoid this warning by specifying engine='python'.\n",
            "  from ipykernel import kernelapp as app\n",
            "/usr/local/lib/python3.6/dist-packages/ipykernel_launcher.py:16: ParserWarning: Falling back to the 'python' engine because the 'c' engine does not support regex separators (separators > 1 char and different from '\\s+' are interpreted as regex); you can avoid this warning by specifying engine='python'.\n",
            "  app.launch_new_instance()\n"
          ],
          "name": "stderr"
        }
      ]
    },
    {
      "cell_type": "code",
      "metadata": {
        "id": "vUogygVhocWW",
        "colab_type": "code",
        "colab": {}
      },
      "source": [
        "## Start indexing at 0\n",
        "ratings_df['UserID'] = ratings_df['UserID'] - 1\n",
        "ratings_df[\"MovieID\"] = ratings_df[\"MovieID\"] - 1\n",
        "movie_df[\"MovieID\"] = movie_df[\"MovieID\"] - 1\n",
        "\n",
        "## Create dictionary to easily match movie ids to titles\n",
        "movie_dict = movie_df.set_index(\"MovieID\")[[\"movie\"]].to_dict(orient=\"index\")\n",
        "\n",
        "## Set some ratings aside for testing\n",
        "\n",
        "ratings_df_train, ratings_df_test = train_test_split(ratings_df, test_size=0.1, random_state=41)\n"
      ],
      "execution_count": 0,
      "outputs": []
    },
    {
      "cell_type": "code",
      "metadata": {
        "id": "kMYfL5yOsFsr",
        "colab_type": "code",
        "colab": {}
      },
      "source": [
        "usermovie_df = ratings_df_train.pivot(index='UserID', columns='MovieID', values='Rating').reindex(range(0,ratings_df[\"UserID\"].max()), fill_value=0).transpose().reindex(range(0,ratings_df[\"MovieID\"].max()), fill_value=0).transpose()\n",
        "usermovie_df = usermovie_df.transpose().fillna(usermovie_df.mean(axis=1)).transpose()\n",
        "users = usermovie_df.index.tolist()\n",
        "movies = usermovie_df.columns.tolist()\n",
        "usermovie_df = usermovie_df.values\n",
        "\n"
      ],
      "execution_count": 0,
      "outputs": []
    },
    {
      "cell_type": "markdown",
      "metadata": {
        "id": "VKITovoa_CAk",
        "colab_type": "text"
      },
      "source": [
        "## First approach:\n",
        "By creating a simple neural network with tensorflow, we find an optimal series of encoders and decoders: e1, e2, d1, d2 such as:<br>\n",
        "\n",
        ">$\\overrightarrow{X}*ReLU(\\overrightarrow{e_1})*\\sigma(\\overrightarrow{e_2})*ReLU\n",
        "(\\overrightarrow{d_1})*\\sigma(\\overrightarrow{d_2}) = \\overrightarrow{X'}  \\approx \\overrightarrow{X}$\n",
        "\n",
        "*Credits to Susan Li* :  https://towardsdatascience.com/building-a-collaborative-filtering-recommender-system-with-tensorflow-82e63d27b420\n",
        "\n",
        "* Blanks are filled with user's average ratings instead of 0\n",
        "* Used ReLU activations on first layers"
      ]
    },
    {
      "cell_type": "code",
      "metadata": {
        "id": "7RFA6-_WxNj_",
        "colab_type": "code",
        "colab": {}
      },
      "source": [
        "num_input = ratings_df[\"MovieID\"].max()\n",
        "num_hidden_1 = 20\n",
        "num_hidden_2 = 7\n",
        "\n",
        "\n",
        "X = tf.placeholder(tf.float64, [None, num_input])\n",
        "\n",
        "weights = {\n",
        "    'encoder_h1': tf.Variable(tf.random_normal([num_input, num_hidden_1], dtype=tf.float64)),\n",
        "    'encoder_h2': tf.Variable(tf.random_normal([num_hidden_1, num_hidden_2], dtype=tf.float64)),\n",
        "    'decoder_h1': tf.Variable(tf.random_normal([num_hidden_2, num_hidden_1], dtype=tf.float64)),\n",
        "    'decoder_h2': tf.Variable(tf.random_normal([num_hidden_1, num_input], dtype=tf.float64)),\n",
        "}\n",
        "\n",
        "biases = {\n",
        "    'encoder_b1': tf.Variable(tf.random_normal([num_hidden_1], dtype=tf.float64)),\n",
        "    'encoder_b2': tf.Variable(tf.random_normal([num_hidden_2], dtype=tf.float64)),\n",
        "    'decoder_b1': tf.Variable(tf.random_normal([num_hidden_1], dtype=tf.float64)),\n",
        "    'decoder_b2': tf.Variable(tf.random_normal([num_input], dtype=tf.float64)),\n",
        "}\n",
        "\n",
        "def encoder(x):\n",
        "    layer_1 = tf.nn.relu(tf.add(tf.matmul(x, weights['encoder_h1']), biases['encoder_b1']))\n",
        "    layer_2 = tf.nn.sigmoid(tf.add(tf.matmul(layer_1, weights['encoder_h2']), biases['encoder_b2']))\n",
        "    return layer_2\n",
        "\n",
        "def decoder(x):\n",
        "    layer_1 = tf.nn.relu(tf.add(tf.matmul(x, weights['decoder_h1']), biases['decoder_b1']))\n",
        "    layer_2 = tf.nn.sigmoid(tf.add(tf.matmul(layer_1, weights['decoder_h2']), biases['decoder_b2']))\n",
        "    return layer_2\n",
        "\n",
        "encoder_op = encoder(X)\n",
        "decoder_op = decoder(encoder_op)\n",
        "y_pred = decoder_op\n",
        "y_true = X"
      ],
      "execution_count": 0,
      "outputs": []
    },
    {
      "cell_type": "code",
      "metadata": {
        "id": "iIqcP_W2xQAc",
        "colab_type": "code",
        "outputId": "d965c1b3-d2ae-4cfc-d698-ccf6d2cec62d",
        "colab": {
          "base_uri": "https://localhost:8080/",
          "height": 357
        }
      },
      "source": [
        "\n",
        "loss = tf.losses.mean_squared_error(y_true, y_pred)\n",
        "optimizer = tf.train.RMSPropOptimizer(0.03).minimize(loss)\n",
        "eval_x = tf.placeholder(tf.int32, ) \n",
        "eval_y = tf.placeholder(tf.int32, )\n",
        "pre, pre_op = tf.metrics.precision(labels=eval_x, predictions=eval_y)\n",
        "\n",
        "init = tf.global_variables_initializer()\n",
        "local_init = tf.local_variables_initializer()\n",
        "pred_data = pd.DataFrame()\n",
        "\n",
        "with tf.Session() as session:\n",
        "    epochs = 100\n",
        "    batch_size = 35\n",
        "\n",
        "    session.run(init)\n",
        "    session.run(local_init)\n",
        "\n",
        "    num_batches = int(usermovie_df.shape[0] / batch_size)\n",
        "    train_df = np.array_split(usermovie_df//5, num_batches)\n",
        "    \n",
        "    for i in range(epochs):\n",
        "\n",
        "        avg_cost = 0\n",
        "        for batch in train_df:\n",
        "            _, l = session.run([optimizer, loss], feed_dict={X: batch})\n",
        "            avg_cost += l\n",
        "\n",
        "        avg_cost /= num_batches\n",
        "\n",
        "        if (i+1) % 5 == 0 : print(\"epoch: {} Loss: {}\".format(i + 1, avg_cost))\n",
        "\n",
        "    train_df = np.concatenate(train_df, axis=0)\n",
        "\n",
        "    preds = session.run(decoder_op, feed_dict={X: train_df})*5\n",
        "\n",
        "    pred_data = pred_data.append(pd.DataFrame(preds))\n",
        "\n",
        "    pred_data = pred_data.stack().reset_index(name='Rating')\n",
        "    pred_data.columns = ['UserID', 'MovieID', 'Rating']\n",
        "    pred_data['UserID'] = pred_data['UserID'].map(lambda value: users[value])\n",
        "    pred_data['MovieID'] = pred_data['MovieID'].map(lambda value: movies[value])\n",
        "    \n",
        "    keys = ['UserID', 'MovieID']\n",
        "    index_1 = pred_data.set_index(keys).index\n",
        "    index_2 = ratings_df_train.set_index(keys).index\n",
        "\n",
        "    top_ten_ranked = pred_data[~index_1.isin(index_2)]\n",
        "    top_ten_ranked = top_ten_ranked.sort_values(['UserID', 'Rating'], ascending=[True, False])\n",
        "    top_ten_ranked = top_ten_ranked.groupby('UserID').head(10)"
      ],
      "execution_count": 50,
      "outputs": [
        {
          "output_type": "stream",
          "text": [
            "epoch: 5 Loss: 0.0085481125834333\n",
            "epoch: 10 Loss: 0.008183790831068573\n",
            "epoch: 15 Loss: 0.008107344850053102\n",
            "epoch: 20 Loss: 0.008074943089944333\n",
            "epoch: 25 Loss: 0.00805722699002471\n",
            "epoch: 30 Loss: 0.008046128343097692\n",
            "epoch: 35 Loss: 0.0080385553504362\n",
            "epoch: 40 Loss: 0.008033075380723837\n",
            "epoch: 45 Loss: 0.008028935687075\n",
            "epoch: 50 Loss: 0.008025704227864396\n",
            "epoch: 55 Loss: 0.008023115538255594\n",
            "epoch: 60 Loss: 0.008020997856916902\n",
            "epoch: 65 Loss: 0.008019235166504459\n",
            "epoch: 70 Loss: 0.008017746607101587\n",
            "epoch: 75 Loss: 0.00801647357036208\n",
            "epoch: 80 Loss: 0.008015373302082162\n",
            "epoch: 85 Loss: 0.008014413530851692\n",
            "epoch: 90 Loss: 0.008013569267986471\n",
            "epoch: 95 Loss: 0.008012821258933739\n",
            "epoch: 100 Loss: 0.00801215430472566\n"
          ],
          "name": "stdout"
        }
      ]
    },
    {
      "cell_type": "markdown",
      "metadata": {
        "id": "vUts_4Dsmn88",
        "colab_type": "text"
      },
      "source": [
        "# Second Approach:\n",
        "Matrix factorisation via Alternate Least Square (GPU Optimized):\n",
        "\n",
        "We alternately solve the following expression for U and for M :\n",
        "\n",
        ">$\\overrightarrow{U}\\overrightarrow{M} \\approx \\overrightarrow{X} \n",
        ",where \\\\\\overrightarrow{U} is\\ a\\ user\\ (n_{users}*n_{hiddenfeatures})\\ matrix, \n",
        "\\\\\\overrightarrow{M} is\\ a\\ movie\\ (n_{hiddenfeatures}*n_{movies})\\ matrix,\n",
        "$\n"
      ]
    },
    {
      "cell_type": "code",
      "metadata": {
        "id": "1d4RlV5anGEy",
        "colab_type": "code",
        "colab": {
          "base_uri": "https://localhost:8080/",
          "height": 66,
          "referenced_widgets": [
            "f70f1bc2a6ac4cc38bf042851fd284b4",
            "7d63e9cc3f2448898ae730245216f292",
            "d933af5b01b846619288dc8d3fa976d0",
            "d0852763beb34184af3dc95960a6d0a4",
            "e8e4716fd30f4181b6ad1d8748ec1981",
            "df8f62ba49fb4c7e88a749b05d43d311",
            "e2ee105b3bce42a3b2868029cea42d2e",
            "f3e386dcc8554b92bc2cef32ef7da77e"
          ]
        },
        "outputId": "5660bc4b-eef1-4e77-b6a6-296d283de6a7"
      },
      "source": [
        "\n",
        "\n",
        "item_user_data = coo_matrix((ratings_df_train[\"Rating\"], (ratings_df_train[\"MovieID\"],ratings_df_train[\"UserID\"])), shape=(ratings_df_train[\"MovieID\"].max()+1, ratings_df_train[\"UserID\"].max()+1))\n",
        "# initialize a model\n",
        "model = implicit.als.AlternatingLeastSquares(factors=128, use_gpu = True)\n",
        "\n",
        "# train the model on a sparse matrix of item/user/confidence weights\n",
        "model.fit(item_user_data)\n",
        "\n",
        "user_items = item_user_data.T.tocsr()\n"
      ],
      "execution_count": 51,
      "outputs": [
        {
          "output_type": "display_data",
          "data": {
            "application/vnd.jupyter.widget-view+json": {
              "model_id": "f70f1bc2a6ac4cc38bf042851fd284b4",
              "version_minor": 0,
              "version_major": 2
            },
            "text/plain": [
              "HBox(children=(IntProgress(value=0, max=15), HTML(value='')))"
            ]
          },
          "metadata": {
            "tags": []
          }
        },
        {
          "output_type": "stream",
          "text": [
            "\n"
          ],
          "name": "stdout"
        }
      ]
    },
    {
      "cell_type": "code",
      "metadata": {
        "id": "dE9iev4bs3_O",
        "colab_type": "code",
        "colab": {
          "base_uri": "https://localhost:8080/",
          "height": 34
        },
        "outputId": "21e3cea6-ff6a-4fd3-d32d-ae84d4ff311d"
      },
      "source": [
        "##Simple function to find a movie index number\n",
        "def getKeysByValue(valueToFind):\n",
        "    listOfKeys = list()\n",
        "    listOfItems = movie_dict.items()\n",
        "    for item  in listOfItems:\n",
        "        if valueToFind.lower() in item[1][\"movie\"].lower():\n",
        "            listOfKeys.append((item[0],item[1][\"movie\"]))\n",
        "    return  listOfKeys\n",
        "\n",
        "getKeysByValue(\"matrix\")"
      ],
      "execution_count": 52,
      "outputs": [
        {
          "output_type": "execute_result",
          "data": {
            "text/plain": [
              "[(2570, 'Matrix, The (1999)')]"
            ]
          },
          "metadata": {
            "tags": []
          },
          "execution_count": 52
        }
      ]
    },
    {
      "cell_type": "code",
      "metadata": {
        "id": "T_HisaH9pj8G",
        "colab_type": "code",
        "colab": {
          "base_uri": "https://localhost:8080/",
          "height": 204
        },
        "outputId": "4c029dc6-6b70-4f96-e7ac-7878539ad60f"
      },
      "source": [
        "# With this approach, we are able to find similar movies\n",
        "i=2570\n",
        "print(movie_dict[i])\n",
        "[movie_dict[x] for (x, y) in model.similar_items(i)]"
      ],
      "execution_count": 53,
      "outputs": [
        {
          "output_type": "stream",
          "text": [
            "{'movie': 'Matrix, The (1999)'}\n"
          ],
          "name": "stdout"
        },
        {
          "output_type": "execute_result",
          "data": {
            "text/plain": [
              "[{'movie': 'Matrix, The (1999)'},\n",
              " {'movie': 'Terminator 2: Judgment Day (1991)'},\n",
              " {'movie': 'Total Recall (1990)'},\n",
              " {'movie': 'Fugitive, The (1993)'},\n",
              " {'movie': 'Terminator, The (1984)'},\n",
              " {'movie': 'Face/Off (1997)'},\n",
              " {'movie': 'Fifth Element, The (1997)'},\n",
              " {'movie': 'Twelve Monkeys (1995)'},\n",
              " {'movie': 'Jurassic Park (1993)'},\n",
              " {'movie': 'Men in Black (1997)'}]"
            ]
          },
          "metadata": {
            "tags": []
          },
          "execution_count": 53
        }
      ]
    },
    {
      "cell_type": "markdown",
      "metadata": {
        "id": "5z4ytLkD-zRy",
        "colab_type": "text"
      },
      "source": [
        "# Comparing results"
      ]
    },
    {
      "cell_type": "code",
      "metadata": {
        "id": "BwBRzGFKndT8",
        "colab_type": "code",
        "colab": {
          "base_uri": "https://localhost:8080/",
          "height": 359
        },
        "outputId": "91ba85d7-702e-4541-d5e8-907b014a87b7"
      },
      "source": [
        "#Let's choose a random user numer\n",
        "usernumber = 1234\n",
        "results = pd.DataFrame()\n",
        "results[\"watched\"] = [x[\"movie\"] for x in ratings_df_train.loc[ratings_df_train['UserID'] == usernumber].sort_values(by=['Rating'], ascending=False)[\"MovieID\"].head(10).map(movie_dict)]\n",
        "results[\"NeuralNet\"] = [x[\"movie\"] for x in top_ten_ranked.loc[top_ten_ranked['UserID'] == usernumber][\"MovieID\"].head(10).map(movie_dict)]\n",
        "results[\"MatrixFac\"] = [movie_dict[x][\"movie\"] for (x, y) in model.recommend(usernumber, user_items, filter_already_liked_items =True)]\n",
        "results"
      ],
      "execution_count": 68,
      "outputs": [
        {
          "output_type": "execute_result",
          "data": {
            "text/html": [
              "<div>\n",
              "<style scoped>\n",
              "    .dataframe tbody tr th:only-of-type {\n",
              "        vertical-align: middle;\n",
              "    }\n",
              "\n",
              "    .dataframe tbody tr th {\n",
              "        vertical-align: top;\n",
              "    }\n",
              "\n",
              "    .dataframe thead th {\n",
              "        text-align: right;\n",
              "    }\n",
              "</style>\n",
              "<table border=\"1\" class=\"dataframe\">\n",
              "  <thead>\n",
              "    <tr style=\"text-align: right;\">\n",
              "      <th></th>\n",
              "      <th>watched</th>\n",
              "      <th>NeuralNet</th>\n",
              "      <th>MatrixFac</th>\n",
              "    </tr>\n",
              "  </thead>\n",
              "  <tbody>\n",
              "    <tr>\n",
              "      <th>0</th>\n",
              "      <td>Life Is Beautiful (La Vita � bella) (1997)</td>\n",
              "      <td>Star Wars: Episode IV - A New Hope (1977)</td>\n",
              "      <td>Shine (1996)</td>\n",
              "    </tr>\n",
              "    <tr>\n",
              "      <th>1</th>\n",
              "      <td>Titanic (1997)</td>\n",
              "      <td>American Beauty (1999)</td>\n",
              "      <td>Scent of a Woman (1992)</td>\n",
              "    </tr>\n",
              "    <tr>\n",
              "      <th>2</th>\n",
              "      <td>Cider House Rules, The (1999)</td>\n",
              "      <td>Godfather, The (1972)</td>\n",
              "      <td>Jerry Maguire (1996)</td>\n",
              "    </tr>\n",
              "    <tr>\n",
              "      <th>3</th>\n",
              "      <td>Sense and Sensibility (1995)</td>\n",
              "      <td>Star Wars: Episode V - The Empire Strikes Back...</td>\n",
              "      <td>Piano, The (1993)</td>\n",
              "    </tr>\n",
              "    <tr>\n",
              "      <th>4</th>\n",
              "      <td>Joy Luck Club, The (1993)</td>\n",
              "      <td>Raiders of the Lost Ark (1981)</td>\n",
              "      <td>Fried Green Tomatoes (1991)</td>\n",
              "    </tr>\n",
              "    <tr>\n",
              "      <th>5</th>\n",
              "      <td>Good Will Hunting (1997)</td>\n",
              "      <td>Sixth Sense, The (1999)</td>\n",
              "      <td>Awakenings (1990)</td>\n",
              "    </tr>\n",
              "    <tr>\n",
              "      <th>6</th>\n",
              "      <td>Secret Garden, The (1993)</td>\n",
              "      <td>Schindler's List (1993)</td>\n",
              "      <td>Schindler's List (1993)</td>\n",
              "    </tr>\n",
              "    <tr>\n",
              "      <th>7</th>\n",
              "      <td>Shawshank Redemption, The (1994)</td>\n",
              "      <td>Matrix, The (1999)</td>\n",
              "      <td>Leaving Las Vegas (1995)</td>\n",
              "    </tr>\n",
              "    <tr>\n",
              "      <th>8</th>\n",
              "      <td>Hope Floats (1998)</td>\n",
              "      <td>Princess Bride, The (1987)</td>\n",
              "      <td>Green Mile, The (1999)</td>\n",
              "    </tr>\n",
              "    <tr>\n",
              "      <th>9</th>\n",
              "      <td>Firm, The (1993)</td>\n",
              "      <td>Usual Suspects, The (1995)</td>\n",
              "      <td>American President, The (1995)</td>\n",
              "    </tr>\n",
              "  </tbody>\n",
              "</table>\n",
              "</div>"
            ],
            "text/plain": [
              "                                      watched  ...                       MatrixFac\n",
              "0  Life Is Beautiful (La Vita � bella) (1997)  ...                    Shine (1996)\n",
              "1                              Titanic (1997)  ...         Scent of a Woman (1992)\n",
              "2               Cider House Rules, The (1999)  ...            Jerry Maguire (1996)\n",
              "3                Sense and Sensibility (1995)  ...               Piano, The (1993)\n",
              "4                   Joy Luck Club, The (1993)  ...     Fried Green Tomatoes (1991)\n",
              "5                    Good Will Hunting (1997)  ...               Awakenings (1990)\n",
              "6                   Secret Garden, The (1993)  ...         Schindler's List (1993)\n",
              "7            Shawshank Redemption, The (1994)  ...        Leaving Las Vegas (1995)\n",
              "8                          Hope Floats (1998)  ...          Green Mile, The (1999)\n",
              "9                            Firm, The (1993)  ...  American President, The (1995)\n",
              "\n",
              "[10 rows x 3 columns]"
            ]
          },
          "metadata": {
            "tags": []
          },
          "execution_count": 68
        }
      ]
    },
    {
      "cell_type": "markdown",
      "metadata": {
        "id": "8hQ3S41oAPS5",
        "colab_type": "text"
      },
      "source": [
        "Results are quite different. Let's examine the accuracy using the test set\n"
      ]
    },
    {
      "cell_type": "code",
      "metadata": {
        "id": "yYKxwZsj0VQC",
        "colab_type": "code",
        "colab": {}
      },
      "source": [
        "df_compare = ratings_df_test[[\"UserID\",\"MovieID\",\"Rating\"]].merge(pred_data, how=\"left\", right_on = [\"UserID\",\"MovieID\"], left_on = [\"UserID\",\"MovieID\"], suffixes=(\"\",\"_NN\"))"
      ],
      "execution_count": 0,
      "outputs": []
    },
    {
      "cell_type": "code",
      "metadata": {
        "id": "4igh0f9t8yDc",
        "colab_type": "code",
        "colab": {}
      },
      "source": [
        "\n",
        "def get_als_score(user, movie):\n",
        "  return model.rank_items(user,user_items,[movie])[0][1]\n",
        "\n",
        "df_compare[\"Rating_MF\"] = df_compare.apply(lambda x: get_als_score(int(x[\"UserID\"]),int(x[\"MovieID\"])), axis=1)\n",
        "\n",
        "## Since we will simply recomend top movie, \n",
        "## we are not really interested in the actual absolute store,\n",
        "## but rather by the relative scores, in that optic, it makes sense to standatdize\n",
        "\n",
        "scaler = StandardScaler()\n",
        "df_compare[\"Rating_standard\"]= scaler.fit_transform(df_compare[\"Rating\"].values.reshape(-1,1))\n",
        "df_compare[\"Rating_MF_standard\"]= scaler.fit_transform(df_compare[\"Rating_MF\"].values.reshape(-1,1))\n",
        "df_compare[\"Rating_NN_standard\"]= scaler.fit_transform(df_compare[\"Rating_NN\"].values.reshape(-1,1))\n",
        "\n",
        "df_compare=df_compare.dropna()"
      ],
      "execution_count": 0,
      "outputs": []
    },
    {
      "cell_type": "code",
      "metadata": {
        "id": "R_QxesaMJaGl",
        "colab_type": "code",
        "colab": {
          "base_uri": "https://localhost:8080/",
          "height": 51
        },
        "outputId": "6c45f8e9-178f-4696-e862-0c40c4d8b6f7"
      },
      "source": [
        "print(\"Neural Network MAE: {}\".format(mean_absolute_error(df_compare[\"Rating_standard\"], df_compare[\"Rating_NN_standard\"])))\n",
        "print(\"Matrix Factorization MAE: {}\".format(mean_absolute_error(df_compare[\"Rating_standard\"], df_compare[\"Rating_MF_standard\"])))"
      ],
      "execution_count": 58,
      "outputs": [
        {
          "output_type": "stream",
          "text": [
            "Neural Network MAE: 0.9162304069335659\n",
            "Matrix Factorization MAE: 1.0391789241501572\n"
          ],
          "name": "stdout"
        }
      ]
    },
    {
      "cell_type": "markdown",
      "metadata": {
        "id": "A-6hkF2an3eB",
        "colab_type": "text"
      },
      "source": [
        "Both Absolute Errors are similar and around 1, meaning that on average our predictions are one standard deviation away from the real rating. We see below that the standard deviation of the original ratings (on a 1 to 5 scale) is also around 1. \n",
        "<br><br>\n",
        "On this iteration, the Neural Network performed slightly better, but a k-fold CV would be necessary to take any conclusion\n",
        "\n"
      ]
    },
    {
      "cell_type": "code",
      "metadata": {
        "id": "hvGTP5Bbx5GI",
        "colab_type": "code",
        "colab": {
          "base_uri": "https://localhost:8080/",
          "height": 34
        },
        "outputId": "66c3c614-5576-4b8b-8961-ca7f44e68586"
      },
      "source": [
        "df_compare[\"Rating\"].std()"
      ],
      "execution_count": 60,
      "outputs": [
        {
          "output_type": "execute_result",
          "data": {
            "text/plain": [
              "1.113562891901298"
            ]
          },
          "metadata": {
            "tags": []
          },
          "execution_count": 60
        }
      ]
    },
    {
      "cell_type": "code",
      "metadata": {
        "id": "rlbCVHjSx7t0",
        "colab_type": "code",
        "colab": {}
      },
      "source": [
        ""
      ],
      "execution_count": 0,
      "outputs": []
    }
  ]
}